{
 "cells": [
  {
   "cell_type": "code",
   "execution_count": 93,
   "metadata": {},
   "outputs": [],
   "source": [
    "import numpy as np\n",
    "import matplotlib\n",
    "import matplotlib.pyplot as plt\n",
    "import scipy.integrate as integrate\n",
    "import scipy.fftpack\n",
    "from matplotlib import cm\n",
    "from matplotlib.ticker import FuncFormatter, MultipleLocator, LinearLocator, FormatStrFormatter\n",
    "import scipy.fftpack\n",
    "from matplotlib import collections as matcoll\n"
   ]
  },
  {
   "cell_type": "code",
   "execution_count": 94,
   "metadata": {},
   "outputs": [],
   "source": [
    "x = np.arange(2*np.pi/100,2*np.pi,2*np.pi/100)\n",
    "vis = 0.180\n",
    "t = 1.2\n",
    "n = np.arange(1,20,1)\n",
    "coeff =[0 for i in range(np.size(n))]\n",
    "cutCoeff  =[0 for i in range(np.size(n))]\n"
   ]
  },
  {
   "cell_type": "code",
   "execution_count": 95,
   "metadata": {},
   "outputs": [],
   "source": [
    "for i in range(np.size(n)):\n",
    "        coeff[i]= integrate.quad(lambda x: np.exp(-1/(4*vis*np.pi)*(1-np.cos(2*np.pi*x)))*np.cos(i*x),\\\n",
    "        0,np.pi*2)\n"
   ]
  },
  {
   "cell_type": "code",
   "execution_count": 96,
   "metadata": {},
   "outputs": [],
   "source": [
    "a0 = integrate.quad(lambda x: np.exp((-1/(4*vis*np.pi*1))*(1-np.cos(x))), 0,2*np.pi)"
   ]
  },
  {
   "cell_type": "code",
   "execution_count": 97,
   "metadata": {},
   "outputs": [],
   "source": [
    "for i in range(np.size(n)):\n",
    "    cutCoeff[i] = coeff[i][0]"
   ]
  },
  {
   "cell_type": "code",
   "execution_count": 98,
   "metadata": {},
   "outputs": [],
   "source": [
    "def u(x): \n",
    "    out = 2 +4*np.pi*vis\\\n",
    "           *((cutCoeff[0]*np.exp(-vis*1*1*t)*1*np.sin(1*x)\\\n",
    "           + cutCoeff[1]*np.exp(-vis*2*2*t)*2*np.sin(2*x)\\\n",
    "           + cutCoeff[2]*np.exp(-vis*3*3*t)*3*np.sin(3*x)\\\n",
    "           + cutCoeff[3]*np.exp(-vis*4*4*t)*4*np.sin(4*x)\\\n",
    "           + cutCoeff[4]*np.exp(-vis*5*5*t)*5*np.sin(5*x))\\\n",
    "                                    /                         \\\n",
    "          (a0+(cutCoeff[0]*np.exp(-vis*1*1*t)*1*np.cos(1*x)\\\n",
    "          +cutCoeff[1]*np.exp(-vis*2*2*t)*2*np.cos(2*x)\\\n",
    "          +cutCoeff[2]*np.exp(-vis*3*3*t)*3*np.cos(3*x)\\\n",
    "          +cutCoeff[3]*np.exp(-vis*4*4*t)*4*np.cos(4*x)\\\n",
    "          +cutCoeff[4]*np.exp(-vis*5*5*t)*5*np.cos(5*x))))\n",
    "    return out"
   ]
  },
  {
   "cell_type": "code",
   "execution_count": 99,
   "metadata": {},
   "outputs": [],
   "source": [
    "tempValue =[0 for i in range(np.size(x))]\n",
    "cutValue =[0 for i in range(np.size(x))]"
   ]
  },
  {
   "cell_type": "code",
   "execution_count": 100,
   "metadata": {},
   "outputs": [],
   "source": [
    "for i in range(np.size(x)):\n",
    "    tempValue[i] = u(x[i])"
   ]
  },
  {
   "cell_type": "code",
   "execution_count": 101,
   "metadata": {},
   "outputs": [],
   "source": [
    "for i in range(np.size(x)):\n",
    "    cutValue[i] = tempValue[i][0]"
   ]
  },
  {
   "cell_type": "code",
   "execution_count": 111,
   "metadata": {},
   "outputs": [
    {
     "data": {
      "image/png": "[encoded data removed]",
      "text/plain": [
       "<Figure size 432x288 with 1 Axes>"
      ]
     },
     "metadata": {
      "needs_background": "light"
     },
     "output_type": "display_data"
    }
   ],
   "source": [
    "color=iter(cm.twilight(np.linspace(0,1,1000)))\n",
    "fig, ax = plt.subplots()\n",
    "ax.plot(x, cutValue, c='orangered')\n",
    "    \n",
    "ax.xaxis.set_major_formatter(FuncFormatter(\n",
    "   lambda val,pos: '{:.0g}$\\pi$'.format(val/np.pi) if val !=0 else '0'\n",
    "))\n",
    "ax.xaxis.set_major_locator(MultipleLocator(base=np.pi))\n",
    "ax.set(xlabel='Ort (x)', ylabel='Geschwindigkeit ($\\\\Delta\\\\xi$/$\\\\Delta$t)',\n",
    "       title='Wellenform - t = 1.2')\n",
    "#ax.set_ylim([0,6])\n",
    "fig.savefig(\"DiffuseBurgers_t1-2.png\", dpi=300)\n",
    "plt.show()"
   ]
  },
  {
   "cell_type": "code",
   "execution_count": 15,
   "metadata": {},
   "outputs": [],
   "source": [
    "yf = 50*np.fft.fft(cutValue)"
   ]
  },
  {
   "cell_type": "code",
   "execution_count": 104,
   "metadata": {},
   "outputs": [
    {
     "name": "stdout",
     "output_type": "stream",
     "text": [
      "99\n",
      "99\n"
     ]
    }
   ],
   "source": [
    "print(np.size(yf))\n",
    "N = np.size(cutValue)\n",
    "\n",
    "xf = np.arange(1,100,1)\n",
    "print(np.size(x))"
   ]
  },
  {
   "cell_type": "code",
   "execution_count": 110,
   "metadata": {},
   "outputs": [
    {
     "data": {
      "image/png": "[encoded data removed]",
      "text/plain": [
       "<Figure size 432x288 with 1 Axes>"
      ]
     },
     "metadata": {
      "needs_background": "light"
     },
     "output_type": "display_data"
    }
   ],
   "source": [
    "fig, ax = plt.subplots(1,1)\n",
    "markerline, stemlines, baseline = plt.stem( xf[:N-90],np.abs(yf[:N-90]),linefmt='orangered', markerfmt='o', bottom=1.1)  \n",
    "\n",
    "ax.tick_params(axis='x', colors='black')\n",
    "\n",
    "plt.setp(stemlines, 'linestyle', 'dotted')\n",
    "markerline.set_markerfacecolor('orangered')\n",
    "plt.setp(baseline, c='black')\n",
    "ax.set(xlabel='[n x Harmonische]',ylabel='Magnitude', title='Spektrum Harmonische - t = 1.5')\n",
    "#fig.savefig(\"Spekt1-2.png\", dpi=300)\n",
    "plt.show()"
   ]
  },
  {
   "cell_type": "code",
   "execution_count": null,
   "metadata": {},
   "outputs": [],
   "source": []
  },
  {
   "cell_type": "code",
   "execution_count": 426,
   "metadata": {},
   "outputs": [
    {
     "name": "stdout",
     "output_type": "stream",
     "text": [
      "[4.282064467015721, 0.2095280000913943, 1.0167303324962254, 0.06362677462490052, 0.09560632194590665, -0.030002926296212134, -0.019329125641378016, -0.0046720798386243115, 0.015622158683876286, 0.020500674739456052, 0.010731584256189548, -0.004673379965043571, -0.014288429380880228, -0.01252762403823363, -0.002298347912778334, 0.008177962414932311, 0.011621783348892953, 0.006498861669502781, -0.0026328542993417636]\n"
     ]
    }
   ],
   "source": [
    "print(cutCoeff)"
   ]
  },
  {
   "cell_type": "code",
   "execution_count": null,
   "metadata": {},
   "outputs": [],
   "source": []
  }
 ],
 "metadata": {
  "kernelspec": {
   "display_name": "Python 3",
   "language": "python",
   "name": "python3"
  },
  "language_info": {
   "codemirror_mode": {
    "name": "ipython",
    "version": 3
   },
   "file_extension": ".py",
   "mimetype": "text/x-python",
   "name": "python",
   "nbconvert_exporter": "python",
   "pygments_lexer": "ipython3",
   "version": "3.7.4"
  }
 },
 "nbformat": 4,
 "nbformat_minor": 2
}
